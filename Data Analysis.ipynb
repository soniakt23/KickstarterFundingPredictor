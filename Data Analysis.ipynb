{
 "cells": [
  {
   "cell_type": "code",
   "execution_count": 19,
   "metadata": {
    "collapsed": true
   },
   "outputs": [],
   "source": [
    "%matplotlib inline\n",
    "import pandas as pd\n",
    "import numpy as np\n",
    "import re\n",
    "import matplotlib.pyplot as plt\n",
    "import seaborn as sns"
   ]
  },
  {
   "cell_type": "code",
   "execution_count": 20,
   "metadata": {
    "collapsed": true
   },
   "outputs": [],
   "source": [
    "# path variables for KEVIN\n",
    "\n",
    "path = \"D:\\Kevin Liang/Documents/1_UT_SENIOR/UT_AUSTIN_FALL_2017/EE_379K/Data_Science_Final_Project/Kickstarter_Data/\""
   ]
  },
  {
   "cell_type": "code",
   "execution_count": 4,
   "metadata": {
    "collapsed": true
   },
   "outputs": [],
   "source": [
    "# data - dataset as a DataFrame object\n",
    "# list_of_features - features that need to be one hot encoded\n",
    "\n",
    "def ohe_data(data, list_of_features):\n",
    "    ohe = data[list_of_features]\n",
    "    new_data = data.drop(list_of_features, axis = 1)\n",
    "    ohe_features = pd.get_dummies(ohe)\n",
    "    return pd.concat([new_data,ohe_features], axis = 1)"
   ]
  },
  {
   "cell_type": "code",
   "execution_count": 40,
   "metadata": {
    "collapsed": true
   },
   "outputs": [],
   "source": [
    "data = pd.read_csv(path + \"Kickstarter.csv\", header = 0, index_col = 0)\n",
    "# these features are dropped because the data is missing, the data is irrelevant, or another column captures the information.\n",
    "dropped_features = [\"slug\", \"currency_symbol\", \"permissions\", \"is_backing\", \"is_starred\", \"friends\"]\n",
    "\n",
    "data = data.drop(dropped_features, axis = 1)"
   ]
  },
  {
   "cell_type": "code",
   "execution_count": 18,
   "metadata": {},
   "outputs": [
    {
     "data": {
      "text/plain": [
       "domestic    4052\n",
       "Name: usd_type, dtype: int64"
      ]
     },
     "execution_count": 18,
     "metadata": {},
     "output_type": "execute_result"
    }
   ],
   "source": [
    "data[\"usd_type\"].value_counts()"
   ]
  },
  {
   "cell_type": "code",
   "execution_count": 41,
   "metadata": {},
   "outputs": [
    {
     "name": "stdout",
     "output_type": "stream",
     "text": [
      "['photo', 'name', 'blurb', 'state', 'country', 'currency', 'current_currency', 'usd_type', 'creator', 'location', 'category', 'profile', 'urls', 'source_url']\n"
     ]
    }
   ],
   "source": [
    "# find and drop all non numerical columns -> leaving numerical data\n",
    "non_int_columns = []\n",
    "for column_name in data.columns.values:\n",
    "    try:\n",
    "        number = float(data[column_name].iloc[0])\n",
    "    except:\n",
    "        non_int_columns.append(column_name)\n",
    "print non_int_columns"
   ]
  },
  {
   "cell_type": "code",
   "execution_count": 42,
   "metadata": {
    "scrolled": false
   },
   "outputs": [
    {
     "name": "stdout",
     "output_type": "stream",
     "text": [
      "               goal       pledged      deadline  state_changed_at  \\\n",
      "count  4.052000e+03  4.052000e+03  4.052000e+03      4.052000e+03   \n",
      "mean   5.263900e+04  3.690598e+03  1.406947e+09      1.406812e+09   \n",
      "std    1.771895e+06  5.059797e+04  5.988618e+07      5.977011e+07   \n",
      "min    1.000000e-02  0.000000e+00  1.241334e+09      1.241334e+09   \n",
      "25%    5.000000e+02  2.500000e+01  1.366218e+09      1.366218e+09   \n",
      "50%    2.000000e+03  3.155000e+02  1.411936e+09      1.411857e+09   \n",
      "75%    5.000000e+03  1.773963e+03  1.446623e+09      1.446429e+09   \n",
      "max    1.000000e+08  3.112511e+06  1.512790e+09      1.508081e+09   \n",
      "\n",
      "         created_at   launched_at  backers_count  static_usd_rate  \\\n",
      "count  4.052000e+03  4.052000e+03    4052.000000      4052.000000   \n",
      "mean   1.401541e+09  1.404203e+09      46.771964         1.042200   \n",
      "std    6.007431e+07  6.010404e+07     189.389263         0.218608   \n",
      "min    1.240601e+09  1.240603e+09       0.000000         0.048231   \n",
      "25%    1.360107e+09  1.363650e+09       2.000000         1.000000   \n",
      "50%    1.406596e+09  1.409011e+09       9.000000         1.000000   \n",
      "75%    1.441591e+09  1.443733e+09      37.000000         1.000000   \n",
      "max    1.507813e+09  1.508081e+09    7362.000000         1.715913   \n",
      "\n",
      "         usd_pledged  converted_pledged_amount  \n",
      "count    4052.000000               4052.000000  \n",
      "mean     2750.607873               2749.507404  \n",
      "std     12865.148561              12891.483560  \n",
      "min         0.000000                  0.000000  \n",
      "25%        25.000000                 25.000000  \n",
      "50%       325.000000                325.000000  \n",
      "75%      1770.923369               1773.250000  \n",
      "max    426002.506307             417285.000000  \n"
     ]
    }
   ],
   "source": [
    "numerical_data = data.drop(non_int_columns, axis = 1)\n",
    "print numerical_data.describe()"
   ]
  },
  {
   "cell_type": "code",
   "execution_count": 61,
   "metadata": {
    "scrolled": false
   },
   "outputs": [
    {
     "data": {
      "text/html": [
       "<div>\n",
       "<style>\n",
       "    .dataframe thead tr:only-child th {\n",
       "        text-align: right;\n",
       "    }\n",
       "\n",
       "    .dataframe thead th {\n",
       "        text-align: left;\n",
       "    }\n",
       "\n",
       "    .dataframe tbody tr th {\n",
       "        vertical-align: top;\n",
       "    }\n",
       "</style>\n",
       "<table border=\"1\" class=\"dataframe\">\n",
       "  <thead>\n",
       "    <tr style=\"text-align: right;\">\n",
       "      <th></th>\n",
       "      <th>goal</th>\n",
       "      <th>pledged</th>\n",
       "      <th>disable_communication</th>\n",
       "      <th>currency_trailing_code</th>\n",
       "      <th>deadline</th>\n",
       "      <th>state_changed_at</th>\n",
       "      <th>created_at</th>\n",
       "      <th>launched_at</th>\n",
       "      <th>staff_pick</th>\n",
       "      <th>is_starrable</th>\n",
       "      <th>backers_count</th>\n",
       "      <th>static_usd_rate</th>\n",
       "      <th>usd_pledged</th>\n",
       "      <th>converted_pledged_amount</th>\n",
       "      <th>spotlight</th>\n",
       "    </tr>\n",
       "  </thead>\n",
       "  <tbody>\n",
       "    <tr>\n",
       "      <th>goal</th>\n",
       "      <td>1.000000</td>\n",
       "      <td>0.026908</td>\n",
       "      <td>-0.004252</td>\n",
       "      <td>-0.031663</td>\n",
       "      <td>0.029126</td>\n",
       "      <td>0.028911</td>\n",
       "      <td>0.028365</td>\n",
       "      <td>0.028351</td>\n",
       "      <td>-0.008114</td>\n",
       "      <td>-0.009282</td>\n",
       "      <td>0.000005</td>\n",
       "      <td>-0.028864</td>\n",
       "      <td>0.020902</td>\n",
       "      <td>0.020845</td>\n",
       "      <td>-0.070357</td>\n",
       "    </tr>\n",
       "    <tr>\n",
       "      <th>pledged</th>\n",
       "      <td>0.026908</td>\n",
       "      <td>1.000000</td>\n",
       "      <td>-0.012360</td>\n",
       "      <td>0.046812</td>\n",
       "      <td>0.031752</td>\n",
       "      <td>0.031831</td>\n",
       "      <td>0.024455</td>\n",
       "      <td>0.031192</td>\n",
       "      <td>0.327192</td>\n",
       "      <td>0.058213</td>\n",
       "      <td>0.818062</td>\n",
       "      <td>-0.092406</td>\n",
       "      <td>0.939506</td>\n",
       "      <td>0.939295</td>\n",
       "      <td>0.288872</td>\n",
       "    </tr>\n",
       "    <tr>\n",
       "      <th>disable_communication</th>\n",
       "      <td>-0.004252</td>\n",
       "      <td>-0.012360</td>\n",
       "      <td>1.000000</td>\n",
       "      <td>-0.017911</td>\n",
       "      <td>0.019852</td>\n",
       "      <td>0.018710</td>\n",
       "      <td>0.021432</td>\n",
       "      <td>0.019736</td>\n",
       "      <td>-0.013997</td>\n",
       "      <td>-0.005483</td>\n",
       "      <td>-0.013719</td>\n",
       "      <td>0.025809</td>\n",
       "      <td>-0.012186</td>\n",
       "      <td>-0.012198</td>\n",
       "      <td>-0.031079</td>\n",
       "    </tr>\n",
       "    <tr>\n",
       "      <th>currency_trailing_code</th>\n",
       "      <td>-0.031663</td>\n",
       "      <td>0.046812</td>\n",
       "      <td>-0.017911</td>\n",
       "      <td>1.000000</td>\n",
       "      <td>-0.230237</td>\n",
       "      <td>-0.230321</td>\n",
       "      <td>-0.235285</td>\n",
       "      <td>-0.230376</td>\n",
       "      <td>0.040258</td>\n",
       "      <td>-0.048334</td>\n",
       "      <td>0.014994</td>\n",
       "      <td>-0.753937</td>\n",
       "      <td>0.010073</td>\n",
       "      <td>0.010316</td>\n",
       "      <td>0.031412</td>\n",
       "    </tr>\n",
       "    <tr>\n",
       "      <th>deadline</th>\n",
       "      <td>0.029126</td>\n",
       "      <td>0.031752</td>\n",
       "      <td>0.019852</td>\n",
       "      <td>-0.230237</td>\n",
       "      <td>1.000000</td>\n",
       "      <td>0.999954</td>\n",
       "      <td>0.989760</td>\n",
       "      <td>0.999834</td>\n",
       "      <td>-0.131970</td>\n",
       "      <td>0.244030</td>\n",
       "      <td>0.012899</td>\n",
       "      <td>-0.014520</td>\n",
       "      <td>0.015316</td>\n",
       "      <td>0.015324</td>\n",
       "      <td>-0.041820</td>\n",
       "    </tr>\n",
       "    <tr>\n",
       "      <th>state_changed_at</th>\n",
       "      <td>0.028911</td>\n",
       "      <td>0.031831</td>\n",
       "      <td>0.018710</td>\n",
       "      <td>-0.230321</td>\n",
       "      <td>0.999954</td>\n",
       "      <td>1.000000</td>\n",
       "      <td>0.989697</td>\n",
       "      <td>0.999810</td>\n",
       "      <td>-0.131764</td>\n",
       "      <td>0.238301</td>\n",
       "      <td>0.013048</td>\n",
       "      <td>-0.014419</td>\n",
       "      <td>0.015387</td>\n",
       "      <td>0.015398</td>\n",
       "      <td>-0.040090</td>\n",
       "    </tr>\n",
       "    <tr>\n",
       "      <th>created_at</th>\n",
       "      <td>0.028365</td>\n",
       "      <td>0.024455</td>\n",
       "      <td>0.021432</td>\n",
       "      <td>-0.235285</td>\n",
       "      <td>0.989760</td>\n",
       "      <td>0.989697</td>\n",
       "      <td>1.000000</td>\n",
       "      <td>0.989988</td>\n",
       "      <td>-0.138016</td>\n",
       "      <td>0.240195</td>\n",
       "      <td>0.006820</td>\n",
       "      <td>-0.012758</td>\n",
       "      <td>0.007727</td>\n",
       "      <td>0.007802</td>\n",
       "      <td>-0.040747</td>\n",
       "    </tr>\n",
       "    <tr>\n",
       "      <th>launched_at</th>\n",
       "      <td>0.028351</td>\n",
       "      <td>0.031192</td>\n",
       "      <td>0.019736</td>\n",
       "      <td>-0.230376</td>\n",
       "      <td>0.999834</td>\n",
       "      <td>0.999810</td>\n",
       "      <td>0.989988</td>\n",
       "      <td>1.000000</td>\n",
       "      <td>-0.131985</td>\n",
       "      <td>0.243151</td>\n",
       "      <td>0.013070</td>\n",
       "      <td>-0.013948</td>\n",
       "      <td>0.014766</td>\n",
       "      <td>0.014774</td>\n",
       "      <td>-0.039240</td>\n",
       "    </tr>\n",
       "    <tr>\n",
       "      <th>staff_pick</th>\n",
       "      <td>-0.008114</td>\n",
       "      <td>0.327192</td>\n",
       "      <td>-0.013997</td>\n",
       "      <td>0.040258</td>\n",
       "      <td>-0.131970</td>\n",
       "      <td>-0.131764</td>\n",
       "      <td>-0.138016</td>\n",
       "      <td>-0.131985</td>\n",
       "      <td>1.000000</td>\n",
       "      <td>-0.012796</td>\n",
       "      <td>0.334753</td>\n",
       "      <td>-0.013393</td>\n",
       "      <td>0.318925</td>\n",
       "      <td>0.318973</td>\n",
       "      <td>0.270210</td>\n",
       "    </tr>\n",
       "    <tr>\n",
       "      <th>is_starrable</th>\n",
       "      <td>-0.009282</td>\n",
       "      <td>0.058213</td>\n",
       "      <td>-0.005483</td>\n",
       "      <td>-0.048334</td>\n",
       "      <td>0.244030</td>\n",
       "      <td>0.238301</td>\n",
       "      <td>0.240195</td>\n",
       "      <td>0.243151</td>\n",
       "      <td>-0.012796</td>\n",
       "      <td>1.000000</td>\n",
       "      <td>0.052947</td>\n",
       "      <td>-0.002952</td>\n",
       "      <td>0.054440</td>\n",
       "      <td>0.054119</td>\n",
       "      <td>-0.114540</td>\n",
       "    </tr>\n",
       "    <tr>\n",
       "      <th>backers_count</th>\n",
       "      <td>0.000005</td>\n",
       "      <td>0.818062</td>\n",
       "      <td>-0.013719</td>\n",
       "      <td>0.014994</td>\n",
       "      <td>0.012899</td>\n",
       "      <td>0.013048</td>\n",
       "      <td>0.006820</td>\n",
       "      <td>0.013070</td>\n",
       "      <td>0.334753</td>\n",
       "      <td>0.052947</td>\n",
       "      <td>1.000000</td>\n",
       "      <td>-0.005128</td>\n",
       "      <td>0.852240</td>\n",
       "      <td>0.852009</td>\n",
       "      <td>0.334546</td>\n",
       "    </tr>\n",
       "    <tr>\n",
       "      <th>static_usd_rate</th>\n",
       "      <td>-0.028864</td>\n",
       "      <td>-0.092406</td>\n",
       "      <td>0.025809</td>\n",
       "      <td>-0.753937</td>\n",
       "      <td>-0.014520</td>\n",
       "      <td>-0.014419</td>\n",
       "      <td>-0.012758</td>\n",
       "      <td>-0.013948</td>\n",
       "      <td>-0.013393</td>\n",
       "      <td>-0.002952</td>\n",
       "      <td>-0.005128</td>\n",
       "      <td>1.000000</td>\n",
       "      <td>0.007259</td>\n",
       "      <td>0.007093</td>\n",
       "      <td>-0.023711</td>\n",
       "    </tr>\n",
       "    <tr>\n",
       "      <th>usd_pledged</th>\n",
       "      <td>0.020902</td>\n",
       "      <td>0.939506</td>\n",
       "      <td>-0.012186</td>\n",
       "      <td>0.010073</td>\n",
       "      <td>0.015316</td>\n",
       "      <td>0.015387</td>\n",
       "      <td>0.007727</td>\n",
       "      <td>0.014766</td>\n",
       "      <td>0.318925</td>\n",
       "      <td>0.054440</td>\n",
       "      <td>0.852240</td>\n",
       "      <td>0.007259</td>\n",
       "      <td>1.000000</td>\n",
       "      <td>0.999945</td>\n",
       "      <td>0.286506</td>\n",
       "    </tr>\n",
       "    <tr>\n",
       "      <th>converted_pledged_amount</th>\n",
       "      <td>0.020845</td>\n",
       "      <td>0.939295</td>\n",
       "      <td>-0.012198</td>\n",
       "      <td>0.010316</td>\n",
       "      <td>0.015324</td>\n",
       "      <td>0.015398</td>\n",
       "      <td>0.007802</td>\n",
       "      <td>0.014774</td>\n",
       "      <td>0.318973</td>\n",
       "      <td>0.054119</td>\n",
       "      <td>0.852009</td>\n",
       "      <td>0.007093</td>\n",
       "      <td>0.999945</td>\n",
       "      <td>1.000000</td>\n",
       "      <td>0.286877</td>\n",
       "    </tr>\n",
       "    <tr>\n",
       "      <th>spotlight</th>\n",
       "      <td>-0.070357</td>\n",
       "      <td>0.288872</td>\n",
       "      <td>-0.031079</td>\n",
       "      <td>0.031412</td>\n",
       "      <td>-0.041820</td>\n",
       "      <td>-0.040090</td>\n",
       "      <td>-0.040747</td>\n",
       "      <td>-0.039240</td>\n",
       "      <td>0.270210</td>\n",
       "      <td>-0.114540</td>\n",
       "      <td>0.334546</td>\n",
       "      <td>-0.023711</td>\n",
       "      <td>0.286506</td>\n",
       "      <td>0.286877</td>\n",
       "      <td>1.000000</td>\n",
       "    </tr>\n",
       "  </tbody>\n",
       "</table>\n",
       "</div>"
      ],
      "text/plain": [
       "                              goal   pledged  disable_communication  \\\n",
       "goal                      1.000000  0.026908              -0.004252   \n",
       "pledged                   0.026908  1.000000              -0.012360   \n",
       "disable_communication    -0.004252 -0.012360               1.000000   \n",
       "currency_trailing_code   -0.031663  0.046812              -0.017911   \n",
       "deadline                  0.029126  0.031752               0.019852   \n",
       "state_changed_at          0.028911  0.031831               0.018710   \n",
       "created_at                0.028365  0.024455               0.021432   \n",
       "launched_at               0.028351  0.031192               0.019736   \n",
       "staff_pick               -0.008114  0.327192              -0.013997   \n",
       "is_starrable             -0.009282  0.058213              -0.005483   \n",
       "backers_count             0.000005  0.818062              -0.013719   \n",
       "static_usd_rate          -0.028864 -0.092406               0.025809   \n",
       "usd_pledged               0.020902  0.939506              -0.012186   \n",
       "converted_pledged_amount  0.020845  0.939295              -0.012198   \n",
       "spotlight                -0.070357  0.288872              -0.031079   \n",
       "\n",
       "                          currency_trailing_code  deadline  state_changed_at  \\\n",
       "goal                                   -0.031663  0.029126          0.028911   \n",
       "pledged                                 0.046812  0.031752          0.031831   \n",
       "disable_communication                  -0.017911  0.019852          0.018710   \n",
       "currency_trailing_code                  1.000000 -0.230237         -0.230321   \n",
       "deadline                               -0.230237  1.000000          0.999954   \n",
       "state_changed_at                       -0.230321  0.999954          1.000000   \n",
       "created_at                             -0.235285  0.989760          0.989697   \n",
       "launched_at                            -0.230376  0.999834          0.999810   \n",
       "staff_pick                              0.040258 -0.131970         -0.131764   \n",
       "is_starrable                           -0.048334  0.244030          0.238301   \n",
       "backers_count                           0.014994  0.012899          0.013048   \n",
       "static_usd_rate                        -0.753937 -0.014520         -0.014419   \n",
       "usd_pledged                             0.010073  0.015316          0.015387   \n",
       "converted_pledged_amount                0.010316  0.015324          0.015398   \n",
       "spotlight                               0.031412 -0.041820         -0.040090   \n",
       "\n",
       "                          created_at  launched_at  staff_pick  is_starrable  \\\n",
       "goal                        0.028365     0.028351   -0.008114     -0.009282   \n",
       "pledged                     0.024455     0.031192    0.327192      0.058213   \n",
       "disable_communication       0.021432     0.019736   -0.013997     -0.005483   \n",
       "currency_trailing_code     -0.235285    -0.230376    0.040258     -0.048334   \n",
       "deadline                    0.989760     0.999834   -0.131970      0.244030   \n",
       "state_changed_at            0.989697     0.999810   -0.131764      0.238301   \n",
       "created_at                  1.000000     0.989988   -0.138016      0.240195   \n",
       "launched_at                 0.989988     1.000000   -0.131985      0.243151   \n",
       "staff_pick                 -0.138016    -0.131985    1.000000     -0.012796   \n",
       "is_starrable                0.240195     0.243151   -0.012796      1.000000   \n",
       "backers_count               0.006820     0.013070    0.334753      0.052947   \n",
       "static_usd_rate            -0.012758    -0.013948   -0.013393     -0.002952   \n",
       "usd_pledged                 0.007727     0.014766    0.318925      0.054440   \n",
       "converted_pledged_amount    0.007802     0.014774    0.318973      0.054119   \n",
       "spotlight                  -0.040747    -0.039240    0.270210     -0.114540   \n",
       "\n",
       "                          backers_count  static_usd_rate  usd_pledged  \\\n",
       "goal                           0.000005        -0.028864     0.020902   \n",
       "pledged                        0.818062        -0.092406     0.939506   \n",
       "disable_communication         -0.013719         0.025809    -0.012186   \n",
       "currency_trailing_code         0.014994        -0.753937     0.010073   \n",
       "deadline                       0.012899        -0.014520     0.015316   \n",
       "state_changed_at               0.013048        -0.014419     0.015387   \n",
       "created_at                     0.006820        -0.012758     0.007727   \n",
       "launched_at                    0.013070        -0.013948     0.014766   \n",
       "staff_pick                     0.334753        -0.013393     0.318925   \n",
       "is_starrable                   0.052947        -0.002952     0.054440   \n",
       "backers_count                  1.000000        -0.005128     0.852240   \n",
       "static_usd_rate               -0.005128         1.000000     0.007259   \n",
       "usd_pledged                    0.852240         0.007259     1.000000   \n",
       "converted_pledged_amount       0.852009         0.007093     0.999945   \n",
       "spotlight                      0.334546        -0.023711     0.286506   \n",
       "\n",
       "                          converted_pledged_amount  spotlight  \n",
       "goal                                      0.020845  -0.070357  \n",
       "pledged                                   0.939295   0.288872  \n",
       "disable_communication                    -0.012198  -0.031079  \n",
       "currency_trailing_code                    0.010316   0.031412  \n",
       "deadline                                  0.015324  -0.041820  \n",
       "state_changed_at                          0.015398  -0.040090  \n",
       "created_at                                0.007802  -0.040747  \n",
       "launched_at                               0.014774  -0.039240  \n",
       "staff_pick                                0.318973   0.270210  \n",
       "is_starrable                              0.054119  -0.114540  \n",
       "backers_count                             0.852009   0.334546  \n",
       "static_usd_rate                           0.007093  -0.023711  \n",
       "usd_pledged                               0.999945   0.286506  \n",
       "converted_pledged_amount                  1.000000   0.286877  \n",
       "spotlight                                 0.286877   1.000000  "
      ]
     },
     "execution_count": 61,
     "metadata": {},
     "output_type": "execute_result"
    }
   ],
   "source": [
    "numerical_data.corr()"
   ]
  },
  {
   "cell_type": "code",
   "execution_count": 69,
   "metadata": {},
   "outputs": [
    {
     "data": {
      "text/plain": [
       "<matplotlib.axes._subplots.AxesSubplot at 0x11b479e8>"
      ]
     },
     "execution_count": 69,
     "metadata": {},
     "output_type": "execute_result"
    },
    {
     "data": {
      "image/png": "[encoded data removed]",
      "text/plain": [
       "<matplotlib.figure.Figure at 0x11b52ef0>"
      ]
     },
     "metadata": {},
     "output_type": "display_data"
    }
   ],
   "source": [
    "sns.heatmap(numerical_data.corr(),linewidth = \".1\", linecolor = \"black\")"
   ]
  },
  {
   "cell_type": "markdown",
   "metadata": {},
   "source": [
    "There doesn't seem to be any significant correlation between features that shouldn't be obviously correlated. "
   ]
  },
  {
   "cell_type": "code",
   "execution_count": 24,
   "metadata": {},
   "outputs": [
    {
     "name": "stdout",
     "output_type": "stream",
     "text": [
      "Successful Kickstarters - Mean : 3607.20550969 Standard Deviation : 9290.36047643\n",
      "\n",
      "Failed Kickstarters - Mean : 88663.1277819 Standard Deviation : 2403957.14434\n"
     ]
    }
   ],
   "source": [
    "data = pd.read_csv(path + \"Kickstarter.csv\", header = 0, index_col = 0)\n",
    "successful = 0\n",
    "fail = 0\n",
    "\n",
    "successfuls = []\n",
    "fails = []\n",
    "\n",
    "for index,i in enumerate(data[\"state\"]):\n",
    "    if i == \"successful\":\n",
    "        successful += 1\n",
    "        successfuls.append(data[\"goal\"].iloc[index])\n",
    "    if i == \"failed\":\n",
    "        fail += 1\n",
    "        fails.append(data[\"goal\"].iloc[index])\n",
    "\"\"\"\n",
    "fig = plt.figure()\n",
    "ax = fig.add_subplot(221)\n",
    "ax.set_title(\"Goal Money for Succcessful Kickstarters\")\n",
    "ax.histogram(successfuls)\n",
    "ax = fig.add_subplot(223)\n",
    "ax.set_title(\"Goal Money for Failed Kickstarters\")\n",
    "ax.histogram(fails)\n",
    "\"\"\"\n",
    "\n",
    "successfuls = np.asarray(successfuls)\n",
    "fails = np.asarray(fails)\n",
    "\n",
    "mean_success = successfuls.mean()\n",
    "std_success = successfuls.std()\n",
    "mean_fails = fails.mean()\n",
    "std_fails = fails.std()\n",
    "\n",
    "print \"Successful Kickstarters - Mean : \" + str(mean_success) + \" Standard Deviation : \" + str(std_success) + '\\n'\n",
    "print \"Failed Kickstarters - Mean : \" + str(mean_fails) + \" Standard Deviation : \" + str(std_fails)"
   ]
  },
  {
   "cell_type": "code",
   "execution_count": 57,
   "metadata": {
    "scrolled": true
   },
   "outputs": [
    {
     "name": "stdout",
     "output_type": "stream",
     "text": [
      "       Successful Campaign Goal Amount\n",
      "count                      1599.000000\n",
      "mean                       3607.205510\n",
      "std                        9293.266893\n",
      "min                           0.010000\n",
      "25%                         410.000000\n",
      "50%                        1200.000000\n",
      "75%                        3500.000000\n",
      "max                      200000.000000\n",
      "       Failed Campaign Goal Amount\n",
      "count                 2.182000e+03\n",
      "mean                  8.866313e+04\n",
      "std                   2.404508e+06\n",
      "min                   5.000000e+00\n",
      "25%                   9.500000e+02\n",
      "50%                   2.550000e+03\n",
      "75%                   7.000000e+03\n",
      "max                   1.000000e+08\n"
     ]
    }
   ],
   "source": [
    "successful_df = pd.DataFrame(successfuls, columns = [\"Successful Campaign Goal Amount\"])\n",
    "fail_df = pd.DataFrame(fails, columns = [\"Failed Campaign Goal Amount\"])\n",
    "\n",
    "print successful_df.describe()\n",
    "print fail_df.describe()"
   ]
  },
  {
   "cell_type": "markdown",
   "metadata": {},
   "source": [
    "The goal amount of money for all successful kickstarters and all failed kickstarters is shown above. Based on the mean and standard deviation. Successful campaigns on average have smaller means of around 3607 while failed campaigns have a mean goal amount of 88664. This is understandable since a lower goal amount would make it easier to be completed. "
   ]
  },
  {
   "cell_type": "code",
   "execution_count": 61,
   "metadata": {},
   "outputs": [
    {
     "data": {
      "image/png": "[encoded data removed]",
      "text/plain": [
       "<matplotlib.figure.Figure at 0x106e0b70>"
      ]
     },
     "metadata": {},
     "output_type": "display_data"
    }
   ],
   "source": [
    "goal_vs_pledged = [numerical_data[\"goal\"],numerical_data[\"pledged\"]]\n",
    "#fig = plt.figure()\n",
    "#ax = fig.add_subplot(111)\n",
    "#ax.boxplot(goal_vs_pledged)\n",
    "\"\"\"\n",
    "mean_goal = numerical_data[\"goal\"].mean()\n",
    "std_goal = numerical_data[\"goal\"].std()\n",
    "mean_pledged = numerical_data[\"pledged\"].mean()\n",
    "std_pledged = numerical_data[\"pledged\"].std()\n",
    "\n",
    "numerical_data = numerical_data[numerical_data.loc[:,'goal'] < mean_goal + std_goal * 3]\n",
    "numerical_data = numerical_data[numerical_data.loc[:,'goal'] > mean_goal - std_goal * 3]\n",
    "numerical_data = numerical_data[numerical_data.loc[:,'pledged'] < mean_pledged + std_pledged * 3]\n",
    "numerical_data = numerical_data[numerical_data.loc[:,'pledged'] > mean_pledged - std_pledged * 3]\n",
    "\"\"\"\n",
    "features = [\"goal\",\"pledged\"]\n",
    "for feature in features:\n",
    "    mean = numerical_data[feature].mean()\n",
    "    std = numerical_data[feature].std()\n",
    "    numerical_data = numerical_data[numerical_data.loc[:,feature] < mean + std * 3]\n",
    "    numerical_data = numerical_data[numerical_data.loc[:,feature] > mean - std * 3]\n",
    "    \n",
    "plt.plot(numerical_data[\"goal\"], numerical_data[\"pledged\"], \"bo\")\n",
    "plt.title(\"Goal Money vs Pledged Money\")\n",
    "plt.xlabel(\"Goal Money\")\n",
    "plt.ylabel(\"Pledged Money\")\n",
    "plt.show()"
   ]
  },
  {
   "cell_type": "markdown",
   "metadata": {},
   "source": [
    "After removing outliers by only taking data that is one standard deviation from the mean, it looks like the campaigns with lower pledged amoutns have a higher likelyhood of not only reaching their goal but over shooting it. "
   ]
  },
  {
   "cell_type": "code",
   "execution_count": 59,
   "metadata": {
    "scrolled": true
   },
   "outputs": [
    {
     "data": {
      "image/png": "[encoded data removed]",
      "text/plain": [
       "<matplotlib.figure.Figure at 0xc9a5c50>"
      ]
     },
     "metadata": {},
     "output_type": "display_data"
    }
   ],
   "source": [
    "total_time = abs(numerical_data[\"launched_at\"] - numerical_data[\"deadline\"])\n",
    "plt.plot(numerical_data[\"pledged\"], total_time, \"bo\")\n",
    "plt.title(\"Pledge Money vs Total Time\")\n",
    "plt.xlabel(\"Pledge Money\")\n",
    "plt.ylabel(\"Total Time (seconds)\")\n",
    "plt.show()"
   ]
  },
  {
   "cell_type": "markdown",
   "metadata": {},
   "source": [
    "There does not seem to be much of a linear relationship between the total time a kickstarter is live and total money pledged."
   ]
  },
  {
   "cell_type": "code",
   "execution_count": 71,
   "metadata": {},
   "outputs": [
    {
     "data": {
      "image/png": "[encoded data removed]",
      "text/plain": [
       "<matplotlib.figure.Figure at 0x121b0e48>"
      ]
     },
     "metadata": {},
     "output_type": "display_data"
    }
   ],
   "source": [
    "plt.plot(numerical_data[\"backers_count\"], total_time, \"bo\")\n",
    "plt.title(\"Number of backers vs Total Time\")\n",
    "plt.xlabel(\"Number of backers\")\n",
    "plt.ylabel(\"Total time\")\n",
    "plt.show()"
   ]
  },
  {
   "cell_type": "markdown",
   "metadata": {},
   "source": [
    "The overall shape of the graph is similar to the graph of Pledged money vs Total Time, therefore, there is a correlation between the number of backers and the pledged money which would make sense. "
   ]
  },
  {
   "cell_type": "code",
   "execution_count": 73,
   "metadata": {},
   "outputs": [
    {
     "data": {
      "image/png": "[encoded data removed]",
      "text/plain": [
       "<matplotlib.figure.Figure at 0x125661d0>"
      ]
     },
     "metadata": {},
     "output_type": "display_data"
    }
   ],
   "source": [
    "plt.plot(numerical_data[\"backers_count\"], numerical_data[\"pledged\"], \"bo\")\n",
    "plt.title(\"Number of backers vs Money Pledged\")\n",
    "plt.xlabel(\"Number of backers\")\n",
    "plt.ylabel(\"Money Pledged\")\n",
    "plt.show()"
   ]
  },
  {
   "cell_type": "markdown",
   "metadata": {},
   "source": [
    "There seems to be a linear correlation between number of backers and pledged amount."
   ]
  }
 ],
 "metadata": {
  "kernelspec": {
   "display_name": "Python 2",
   "language": "python",
   "name": "python2"
  },
  "language_info": {
   "codemirror_mode": {
    "name": "ipython",
    "version": 2
   },
   "file_extension": ".py",
   "mimetype": "text/x-python",
   "name": "python",
   "nbconvert_exporter": "python",
   "pygments_lexer": "ipython2",
   "version": "2.7.13"
  }
 },
 "nbformat": 4,
 "nbformat_minor": 2
}
