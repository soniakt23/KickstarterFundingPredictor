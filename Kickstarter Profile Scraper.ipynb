{
 "cells": [
  {
   "cell_type": "code",
   "execution_count": 1,
   "metadata": {
    "collapsed": true
   },
   "outputs": [],
   "source": [
    "# imports\n",
    "import glob\n",
    "import json\n",
    "import pandas as pd\n",
    "import urllib\n",
    "from bs4 import BeautifulSoup\n",
    "import requests\n",
    "from lxml import html\n",
    "import time\n",
    "import datetime"
   ]
  },
  {
   "cell_type": "code",
   "execution_count": 2,
   "metadata": {
    "collapsed": true
   },
   "outputs": [],
   "source": [
    "def scrapeProfile(profile_url):\n",
    "#     print(profile_url)\n",
    "    if (profile_url is None):\n",
    "        currBacked = -2\n",
    "        currCreated = -2\n",
    "        currComments = -2\n",
    "        return currBacked, currCreated, currComments\n",
    "    html = urllib.request.urlopen(profile_url).read()\n",
    "    soup = BeautifulSoup(html, 'lxml')\n",
    "    profileDivs = soup.findAll(\"div\", { \"class\" : \"center\" })\n",
    "    currBacked = -2\n",
    "    currCreated = -2\n",
    "    currComments = -2\n",
    "    for profileDiv in profileDivs:\n",
    "#         profile does not exist\n",
    "        if (profileDiv.text == \"Sorry! This person is no longer active on Kickstarter.\"):\n",
    "            currBacked = -1\n",
    "            currCreated = -1\n",
    "            currComments = -1\n",
    "            break\n",
    "#     profile still exists\n",
    "    if (currBacked != -1):   \n",
    "        mydivs = soup.findAll(\"span\", { \"class\" : \"count\" })\n",
    "        currBacked = mydivs[0].text[1:-1]\n",
    "        currCreated = mydivs[1].text[1:-1]\n",
    "        if (len(mydivs) < 3):\n",
    "            currComments = 0\n",
    "        else:\n",
    "            currComments = mydivs[2].text[1:-1]\n",
    "    return currBacked, currCreated, currComments"
   ]
  },
  {
   "cell_type": "code",
   "execution_count": 3,
   "metadata": {
    "collapsed": true
   },
   "outputs": [],
   "source": [
    "# returns the user url, given the entire JSON object as a string\n",
    "def getProfileUrlFromJson(jsonObject):\n",
    "    jsonObject = '{' + jsonObject.split('{', 1)[-1]\n",
    "    jsonObject = jsonObject.rsplit('}', 1)[0] + '}'\n",
    "    try:\n",
    "        objDict = json.loads(jsonObject)\n",
    "    except Exception:\n",
    "        pass\n",
    "    else:\n",
    "        profileUrl = objDict.get('urls').get('web').get('user')\n",
    "        return profileUrl"
   ]
  },
  {
   "cell_type": "code",
   "execution_count": null,
   "metadata": {},
   "outputs": [],
   "source": [
    "# for each csv in directory\n",
    "# profile_list = []\n",
    "for filename in glob.glob('./Kickstarter_Data/*.csv'):\n",
    "    backed_list = []\n",
    "    created_list = []\n",
    "    comments_list = []\n",
    "    print (str(filename))\n",
    "    profileCount = 0\n",
    "    currFile = pd.read_csv(filename)\n",
    "    profileCol = currFile[['creator']]\n",
    "    for rowIdx in range(currFile.shape[0]):\n",
    "        profileCount += 1\n",
    "        if (profileCount%100 == 0):\n",
    "            print (profileCount)\n",
    "        profileJson = profileCol.iloc[[rowIdx]]\n",
    "        profileJson = str(profileJson.values)\n",
    "        currProfile = getProfileUrlFromJson(profileJson)\n",
    "        profileBacked, profileCreated, profileComments = scrapeProfile(currProfile)\n",
    "#         profile_list.append(currProfile)\n",
    "        backed_list.append(profileBacked)\n",
    "        created_list.append(profileCreated)\n",
    "        comments_list.append(profileComments)\n",
    "    ts = time.time()\n",
    "    file_name_created = 'created_list_' + datetime.datetime.fromtimestamp(ts).strftime('%H-%M-%S') + '.csv'\n",
    "    file_name_backed = 'backed_list_' + datetime.datetime.fromtimestamp(ts).strftime('%H-%M-%S') + '.csv'\n",
    "    file_name_comments = 'comments_list_' + datetime.datetime.fromtimestamp(ts).strftime('%H-%M-%S') + '.csv'\n",
    "    df_created = pd.DataFrame(created_list, columns=[\"created\"])\n",
    "    df_backed = pd.DataFrame(backed_list, columns=[\"backed\"])\n",
    "    df_comments = pd.DataFrame(comments_list, columns=[\"comments\"])\n",
    "    df_created.to_csv(file_name_created, index=False)\n",
    "    df_backed.to_csv(file_name_backed, index=False)\n",
    "    df_comments.to_csv(file_name_comments, index=False)"
   ]
  }
 ],
 "metadata": {
  "kernelspec": {
   "display_name": "Python 3",
   "language": "python",
   "name": "python3"
  },
  "language_info": {
   "codemirror_mode": {
    "name": "ipython",
    "version": 3
   },
   "file_extension": ".py",
   "mimetype": "text/x-python",
   "name": "python",
   "nbconvert_exporter": "python",
   "pygments_lexer": "ipython3",
   "version": "3.6.1"
  }
 },
 "nbformat": 4,
 "nbformat_minor": 2
}
