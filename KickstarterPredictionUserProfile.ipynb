{
 "cells": [
  {
   "cell_type": "code",
   "execution_count": 1,
   "metadata": {
    "collapsed": true
   },
   "outputs": [],
   "source": [
    "import pandas as pd\n",
    "import numpy as np\n",
    "import tensorflow as tf\n",
    "import itertools\n",
    "import datetime \n",
    "from sklearn.preprocessing import OneHotEncoder"
   ]
  },
  {
   "cell_type": "code",
   "execution_count": 2,
   "metadata": {
    "collapsed": true
   },
   "outputs": [],
   "source": [
    "df=pd.read_csv(\"Kickstarter001.csv\")\n",
    "df = df.drop([\"location\", \"category\", \"profile\", \"urls\", \"source_url\", \"friends\", \"is_starred\", \"creator\", \"permissions\", \"is_backing\"], axis = 1)\n",
    "train_label = df[\"state\"]\n",
    "train_data = df.drop(\"state\", axis = 1)\n",
    "test =  pd.read_csv(\"Kickstarter002.csv\")\n",
    "test_label = test[\"state\"]\n",
    "test_data = test.drop(\"state\", axis =1)"
   ]
  },
  {
   "cell_type": "code",
   "execution_count": 10,
   "metadata": {
    "collapsed": true
   },
   "outputs": [],
   "source": [
    "from selenium import webdriver\n",
    "from selenium.webdriver.common.keys import Keys\n",
    "from selenium.common.exceptions import NoSuchElementException, StaleElementReferenceException\n",
    "import time\n",
    "import json\n",
    "import datetime\n",
    "\n",
    "def search_results(query):\n",
    "    browser = webdriver.Firefox()\n",
    "    browser.get(query)\n",
    "    time.sleep(1)\n",
    "    body = browser.find_element_by_tag_name('body')\n",
    "    while True:\n",
    "        elemsCount = browser.execute_script(\"return document.querySelectorAll('.stream-items > li.stream-item').length\")\n",
    "\n",
    "        browser.execute_script(\"window.scrollTo(0, document.body.scrollHeight);\")\n",
    "\n",
    "        try:\n",
    "            WebDriverWait(browser, 20).until(\n",
    "                lambda x: x.find_element_by_xpath(\n",
    "                    \"//*[contains(@class,'stream-items')]/li[contains(@class,'stream-item')][\"+str(elemsCount+1)+\"]\"))\n",
    "        except:\n",
    "            break\n",
    "\n",
    "    errors = browser.find_elements_by_class_name('center')\n",
    "    for error in errors:\n",
    "        if (error.text == \"Sorry! This person is no longer active on Kickstarter.\"):\n",
    "            browser.quit()\n",
    "            return 0, 0\n",
    "\n",
    "    price = browser.find_elements_by_class_name('count')\n",
    "    check = False\n",
    "    for val in price:\n",
    "        count = val.text\n",
    "        count =count.encode('utf-8')\n",
    "        if (check == True):\n",
    "            num_backed= count\n",
    "            check = False\n",
    "        else:\n",
    "            num_created = count\n",
    "            check = True\n",
    "            \n",
    "    '''  \n",
    "    projects = browser.find_elements_by_class_name('backed')\n",
    "    for project in projects:\n",
    "        text = project.text\n",
    "        words = text.split()\n",
    "        num_backed = str(words[1])\n",
    "        #print num_backed\n",
    "        browser.quit()\n",
    "        \n",
    "    '''  \n",
    "    \n",
    "    return int(num_backed), int(num_created)"
   ]
  },
  {
   "cell_type": "code",
   "execution_count": 11,
   "metadata": {
    "collapsed": true,
    "scrolled": true
   },
   "outputs": [],
   "source": [
    "def add_user_profile_data(df):\n",
    "    user_num_backers = []\n",
    "    user_num_creators = []\n",
    "    \n",
    "    for user_url in df['user_profiles']:\n",
    "        b, c = search_results(user_url)\n",
    "        user_num_backers.append(b)\n",
    "        user_num_creators.append(c)\n",
    "    \n",
    "    df['user_num_backers'] = pd.Series(user_num_backers)\n",
    "    df['user_num_creators'] = pd.Series(user_num_creators)"
    "    return df
   ]
  }
 ],
 "metadata": {
  "kernelspec": {
   "display_name": "Python 2",
   "language": "python",
   "name": "python2"
  },
  "language_info": {
   "codemirror_mode": {
    "name": "ipython",
    "version": 2
   },
   "file_extension": ".py",
   "mimetype": "text/x-python",
   "name": "python",
   "nbconvert_exporter": "python",
   "pygments_lexer": "ipython2",
   "version": "2.7.13"
  }
 },
 "nbformat": 4,
 "nbformat_minor": 2
}
